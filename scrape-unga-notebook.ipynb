{
 "cells": [
  {
   "cell_type": "code",
   "execution_count": 396,
   "metadata": {},
   "outputs": [],
   "source": [
    "import pdftotext\n",
    "import requests\n",
    "import io\n",
    "import bs4\n",
    "import re\n",
    "import pandas as pd\n",
    "import numpy as np\n",
    "import json\n",
    "from mpi4py import MPI\n",
    "import math"
   ]
  },
  {
   "cell_type": "code",
   "execution_count": 361,
   "metadata": {},
   "outputs": [],
   "source": [
    "def get_resolution_urls(start_year=1946, end_year=2021):\n",
    "    '''\n",
    "    Crawls through the UN Digital Library and fetches the URLs for each resolution's\n",
    "    profile between the given start and end years. \n",
    "    Input:\n",
    "        start_year (int): the year program will start scraping from\n",
    "        end_year (int): the year program will scrape the last\n",
    "    Output:\n",
    "        List of strings: URLs of each resolution's webpage\n",
    "    '''\n",
    "    all_urls = []\n",
    "    for year in range(start_year, end_year + 1):\n",
    "        for i in [1, 201]:\n",
    "            url = 'https://digitallibrary.un.org/search?ln=en&c=Voting+Data&rg=200\\\n",
    "            &jrec={}&fct__3={}&fct__2=General+Assembly&fct__2=General+Assembly&cc=Voting+Data'.format(i, year)    \n",
    "            req = requests.get(url)\n",
    "            soup = bs4.BeautifulSoup(req.text, 'html.parser')\n",
    "            as_ = soup.find_all('a', class_='moreinfo', text='Detailed record')\n",
    "            all_urls += [a['href'] for a in as_]\n",
    "    return list(set(all_urls))"
   ]
  },
  {
   "cell_type": "code",
   "execution_count": null,
   "metadata": {},
   "outputs": [],
   "source": [
    "def get_metadata(urls):\n",
    "    '''\n",
    "    Given the URLs of the UNGA resolutions, fetches the metadata associated with \n",
    "    each resolution.\n",
    "    Input:\n",
    "        urls (list): list of UNGA resolution URLs \n",
    "            (output of the get_resolultion_urls() function)\n",
    "    Output:\n",
    "        List of dicts: contains metadata from all UNGA resolutions provided \n",
    "            as input \n",
    "        \n",
    "    '''\n",
    "    urls = list(map(lambda x: 'https://digitallibrary.un.org' + x, urls))\n",
    "    metadata = []\n",
    "    for url in urls:\n",
    "        req = requests.get(url)\n",
    "        soup = bs4.BeautifulSoup(req.text, 'html.parser')\n",
    "        dic = {'url': url}\n",
    "        divs = soup.find_all('div', class_='metadata-row')\n",
    "        for div in divs:\n",
    "            k = div.find_all('span')[0].text.strip()\n",
    "            v = div.find_all('span')[1].text.strip()\n",
    "            dic[k] = v\n",
    "            as_ = div.find_all('a')\n",
    "            for a in as_:\n",
    "                dic[k + '_url'] = a['href']\n",
    "        if 'Vote' in dic:\n",
    "            decisions = ['Yes', 'No', 'Abstentions', 'Non-voting', 'Total']\n",
    "            votes = re.findall(r':(\\s+\\S+)', dic['Vote summary'])\n",
    "            for i, vote in enumerate(votes):\n",
    "                votes[i] = vote.strip()\n",
    "                if votes[i] == '|':\n",
    "                    votes[i] = 0\n",
    "                votes[i] = int(votes[i])\n",
    "            dic['Votes'] = dict(zip(decisions, votes))\n",
    "            dic['Votes_url'] = url.replace('?ln=en', '/export/xm')\n",
    "        metadata.append(dic)\n",
    "    return metadata"
   ]
  },
  {
   "cell_type": "code",
   "execution_count": 464,
   "metadata": {},
   "outputs": [],
   "source": [
    "def get_voting_data(metadata):\n",
    "    '''\n",
    "    Given the metadata of UNGA resolutions, fetches the voting records for each resolution.\n",
    "    Input:\n",
    "        metadata (list of dicts): contains the metadata of all UNGA resolutions\n",
    "            (output of the get_metadata() function)\n",
    "    Output:\n",
    "        List of dicts: matching each resolution ID with a dictionary of voting records.\n",
    "    '''\n",
    "    voting_data = {}\n",
    "    for res in metadata:\n",
    "        try:\n",
    "            req = requests.get(res['Votes_url'])\n",
    "        except KeyError:\n",
    "            continue\n",
    "        voting_data[res['Resolution']] = []\n",
    "        soup = bs4.BeautifulSoup(req.text, 'html.parser')\n",
    "        datafields = soup.find_all('datafield', tag='967')\n",
    "        for field in datafields:\n",
    "            votes = {}\n",
    "            codes = field.find_all('subfield', code='c')\n",
    "            for code in codes:\n",
    "                votes['Code'] = code.text\n",
    "            countries = field.find_all('subfield', code='e')\n",
    "            for country in countries:\n",
    "                votes['Country'] = country.text\n",
    "            vs = field.find_all('subfield', code='d')\n",
    "            for v in vs:\n",
    "                votes['Vote'] = v.text\n",
    "            voting_data[res[\"Resolution\"]].append(votes)\n",
    "\n",
    "    return voting_data"
   ]
  },
  {
   "cell_type": "code",
   "execution_count": 364,
   "metadata": {},
   "outputs": [],
   "source": [
    "def get_pdf_urls(metadata):\n",
    "    pdf_urls = {}\n",
    "    for res in metadata:\n",
    "        try:\n",
    "            req = requests.get(res['Resolution_url'].replace('?ln=en', '/export/xm'))\n",
    "        except KeyError:\n",
    "            \n",
    "            continue\n",
    "        soup = bs4.BeautifulSoup(req.text, 'html.parser')\n",
    "        subfields = soup.find_all('subfield', code='u')\n",
    "        for sf in subfields:\n",
    "            if sf.text.endswith('-EN.pdf'):\n",
    "                pdf_urls[res['Resolution']] = sf.text\n",
    "                break\n",
    "    return pdf_urls  "
   ]
  },
  {
   "cell_type": "code",
   "execution_count": 592,
   "metadata": {},
   "outputs": [],
   "source": [
    "url=requests.get('https://digitallibrary.un.org/record/3904095/files/A_RES_75_265-EN.pdf')"
   ]
  },
  {
   "cell_type": "code",
   "execution_count": 593,
   "metadata": {},
   "outputs": [],
   "source": [
    "with io.BytesIO(url.content) as f:\n",
    "    pdf = pdftotext.PDF(f)"
   ]
  }
 ],
 "metadata": {
  "kernelspec": {
   "display_name": "Python 3",
   "language": "python",
   "name": "python3"
  },
  "language_info": {
   "codemirror_mode": {
    "name": "ipython",
    "version": 3
   },
   "file_extension": ".py",
   "mimetype": "text/x-python",
   "name": "python",
   "nbconvert_exporter": "python",
   "pygments_lexer": "ipython3",
   "version": "3.8.3"
  }
 },
 "nbformat": 4,
 "nbformat_minor": 4
}
