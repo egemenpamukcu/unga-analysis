{
 "cells": [
  {
   "cell_type": "code",
   "execution_count": 187,
   "metadata": {},
   "outputs": [],
   "source": [
    "import pdftotext\n",
    "import requests\n",
    "import io\n",
    "import re\n",
    "import pandas as pd\n",
    "import numpy as np\n",
    "import json\n",
    "import shutil\n",
    "import math\n",
    "import pdf2image\n",
    "import pytesseract"
   ]
  },
  {
   "cell_type": "code",
   "execution_count": 11,
   "metadata": {},
   "outputs": [],
   "source": [
    "with open('all_pdfs.txt') as pdfs:\n",
    "    all_pdfs = json.load(pdfs)"
   ]
  },
  {
   "cell_type": "code",
   "execution_count": 157,
   "metadata": {},
   "outputs": [],
   "source": [
    "small_pdfs2 = dict(list(all_pdfs.items())[10:13])"
   ]
  },
  {
   "cell_type": "code",
   "execution_count": 208,
   "metadata": {},
   "outputs": [],
   "source": [
    "def create_corpus(all_pdfs): \n",
    "    pdf_urls = [[k, v] for k, v in all_pdfs.items()]\n",
    "    for i, pdf_url in enumerate(pdf_urls):\n",
    "        req = requests.get(pdf_url[1])\n",
    "        with io.BytesIO(req.content) as f:\n",
    "            pdf = pdftotext.PDF(f)\n",
    "        text = ''\n",
    "        for page in pdf:\n",
    "            text += page\n",
    "        pdf_url.append(text.strip())\n",
    "        print('rank 0:', str((round((i + 1)/len(pdf_url)*100, 4))) + '%')\n",
    "    return pd.DataFrame(pdf_urls, columns=['Resolution', 'url', 'Text'])"
   ]
  },
  {
   "cell_type": "code",
   "execution_count": 448,
   "metadata": {},
   "outputs": [],
   "source": [
    "for i, k in raw_small.iterrows():\n",
    "    if k['Text'] == '':\n",
    "        url = k['url']\n",
    "        req = requests.get(url)\n",
    "        pages = pdf2image.convert_from_bytes(req.content)\n",
    "        res = ''\n",
    "        for page in pages:\n",
    "            res += pytesseract.image_to_string(page) \n",
    "        k['Text'] = res"
   ]
  },
  {
   "cell_type": "code",
   "execution_count": 492,
   "metadata": {},
   "outputs": [],
   "source": [
    "test_comp = []\n",
    "for i in range(8):\n",
    "    test_comp.append(pd.read_json('complete_corpus_raw_{}.json'.format(i)))\n",
    "test_comp_df = pd.concat(test_comp)"
   ]
  },
  {
   "cell_type": "code",
   "execution_count": 534,
   "metadata": {},
   "outputs": [],
   "source": [
    "test_comp_df = test_comp_df.drop(test_comp_df[test_comp_df.Text == ''].index)"
   ]
  },
  {
   "cell_type": "code",
   "execution_count": 536,
   "metadata": {},
   "outputs": [],
   "source": [
    "#test_comp_df.to_json('un_corpus_raw.json')"
   ]
  }
 ],
 "metadata": {
  "kernelspec": {
   "display_name": "Python 3",
   "language": "python",
   "name": "python3"
  },
  "language_info": {
   "codemirror_mode": {
    "name": "ipython",
    "version": 3
   },
   "file_extension": ".py",
   "mimetype": "text/x-python",
   "name": "python",
   "nbconvert_exporter": "python",
   "pygments_lexer": "ipython3",
   "version": "3.8.3"
  }
 },
 "nbformat": 4,
 "nbformat_minor": 4
}
