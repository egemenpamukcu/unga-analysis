{
 "cells": [
  {
   "cell_type": "code",
   "execution_count": 149,
   "metadata": {},
   "outputs": [],
   "source": [
    "import pdftotext\n",
    "import requests\n",
    "import io\n",
    "import bs4\n",
    "import re\n",
    "import pandas as pd\n",
    "import numpy as np"
   ]
  },
  {
   "cell_type": "code",
   "execution_count": 78,
   "metadata": {},
   "outputs": [],
   "source": [
    "url=requests.get('https://digitallibrary.un.org/record/3904095/files/A_RES_75_265-EN.pdf')"
   ]
  },
  {
   "cell_type": "code",
   "execution_count": 79,
   "metadata": {},
   "outputs": [],
   "source": [
    "with io.BytesIO(url.content) as f:\n",
    "    pdf = pdftotext.PDF(f)"
   ]
  },
  {
   "cell_type": "code",
   "execution_count": 83,
   "metadata": {
    "scrolled": true
   },
   "outputs": [
    {
     "name": "stdout",
     "output_type": "stream",
     "text": [
      "                                                                               Cooperation between the United Nations and the\n",
      "A/RES/75/265                                                              Organisation for the Prohibition of Chemical Weapons\n",
      "\n",
      "                        4.    Welcomes the effective and ongoing cooperation between the United\n",
      "                   Nations and the Organisation for the Prohibition of Chemical Weapons as set out in\n",
      "                   the Agreement concerning the Relationship between the United Nations and the\n",
      "                   Organisation for the Prohibition of Chemical Weapons; 3\n",
      "                         5.   Recalls the report of the Conference of the States Parties to the Convention\n",
      "                   on the Prohibition of the Development, Production, Stockpiling and Use of Chemical\n",
      "                   Weapons and on Their Destruction on its fourth special session, held in The Hague\n",
      "                   on 26 and 27 June 2018, and also recalls the decision adopted at the special session\n",
      "                   entitled “Addressing the threat from chemical weapons use”;\n",
      "                          6.   Notes the establishment of the Investigation and Identification Team of the\n",
      "                   Organisation for the Prohibition of Chemical Weapons as announced at the ninety-\n",
      "                   first session of the Executive Council of the Organisation in a note by the Technical\n",
      "                   Secretariat, EC-91/S/3, dated 28 June 2019, entitled “Work of the Investigation and\n",
      "                   Identification Team established by decision C-SS-4/DEC.3 (dated 27 June 2018)”, in\n",
      "                   which all States parties were informed about the establishment of the Investigation\n",
      "                   and Identification Team with the purpose of identifying, in compliance with C-SS-4/\n",
      "                   DEC.3, the perpetrators of the use of chemical weapons in the Syrian Arab Republic;\n",
      "                         7.    Takes note with grave concern of the first report of the Investigation and\n",
      "                   Identification Team pursuant to paragraph 10 of decision C-SS-4/DEC.3, entitled\n",
      "                   “Addressing the threat from chemical weapons use: Ltamenah (Syrian Arab Republic) –\n",
      "                   24, 25, and 30 March 2017”, released on 8 April 2020, and expresses appreciation for\n",
      "                   the work done in this regard, takes note of the decision of the Executive Council dated\n",
      "                   9 July 2020, entitled “Addressing the possession and u se of chemical weapons by the\n",
      "                   Syrian Arab Republic”, and welcomes the transmission of that decision and its\n",
      "                   associated reports to the Security Council and the General Assembly through the\n",
      "                   Secretary-General;\n",
      "                         8.    Recalls Security Council resolution 2118 (2013) of 27 September 2013, in\n",
      "                   which, inter alia, the Council requested the Director General of the Organisation for\n",
      "                   the Prohibition of Chemical Weapons to report to the Security Council, through the\n",
      "                   Secretary-General, on a monthly basis, on the implementation of resolution\n",
      "                   2118 (2013) and the decision of the Executive Council of the Organisation of\n",
      "                   27 September 2013, also recalls paragraph 5 of Security Council resolution\n",
      "                   2209 (2015) of 6 March 2015, in which the Council welcomed the intention of the\n",
      "                   Director General to include future reports of the Organisation for the Prohibition of\n",
      "                   Chemical Weapons fact-finding mission in the Syrian Arab Republic, which was\n",
      "                   mandated to establish the facts surrounding allegations of the use of tox ic chemicals\n",
      "                   for hostile purposes in the Syrian Arab Republic, as part of his monthly report to the\n",
      "                   Council, notes in this regard the transmission by the Director General of all monthly\n",
      "                   reports, as well as all reports of the fact-finding mission, during the reporting period,\n",
      "                   and expresses appreciation for the work done in this regard;\n",
      "                         9.   Decides to include in the provisional agenda of its seventy-seventh\n",
      "                   session, under the item entitled “Cooperation between the United Nations and\n",
      "                   regional and other organizations”, the sub-item entitled “Cooperation between the\n",
      "                   United Nations and the Organisation for the Prohibition of Chemical Weapons”.\n",
      "\n",
      "                                                                                     56th plenary meeting\n",
      "                                                                                            3 March 2021\n",
      "\n",
      "\n",
      "\n",
      "\n",
      "         __________________\n",
      "               3\n",
      "                   Ibid., vol. 2160, No. 1240.\n",
      "\n",
      "2/2                                                                                                                   21-03042\n",
      "\f",
      "\n"
     ]
    }
   ],
   "source": [
    "print(pdf[1])"
   ]
  },
  {
   "cell_type": "code",
   "execution_count": 241,
   "metadata": {},
   "outputs": [],
   "source": [
    "def get_resolution_urls(start_year=1946, end_year=2021):\n",
    "    '''\n",
    "    Crawls through the UN Digital Library and fetches the URLs for each resolution's\n",
    "    profile between the given start and end years. \n",
    "    Input:\n",
    "        start_year (int): the year program will start scraping from\n",
    "        end_year (int): the year program will scrape the last\n",
    "    Output:\n",
    "        List of strings: URLs of each resolution's webpage\n",
    "    '''\n",
    "    all_urls = []\n",
    "    for year in range(start_year, end_year + 1):\n",
    "        for i in [1, 201]:\n",
    "            url = 'https://digitallibrary.un.org/search?ln=en&c=Voting+Data&rg=200\\\n",
    "            &jrec={}&fct__3={}&fct__2=General+Assembly&fct__2=General+Assembly&cc=Voting+Data'.format(i, year)    \n",
    "            req = requests.get(url)\n",
    "            soup = bs4.BeautifulSoup(req.text, 'html.parser')\n",
    "            as_ = soup.find_all('a', class_='moreinfo', text='Detailed record')\n",
    "            all_urls += [a['href'] for a in as_]\n",
    "    return list(set(all_urls))"
   ]
  },
  {
   "cell_type": "code",
   "execution_count": 242,
   "metadata": {
    "scrolled": true
   },
   "outputs": [],
   "source": [
    "d = get_resolution_urls()"
   ]
  },
  {
   "cell_type": "code",
   "execution_count": 243,
   "metadata": {},
   "outputs": [],
   "source": [
    "def get_metadata(urls):\n",
    "    '''\n",
    "    Given the URLs of the UNGA resolutions, fetches the metadata associated with \n",
    "    each resolution.\n",
    "    Input:\n",
    "        urls (list): list of UNGA resolution URLs \n",
    "            (output of the get_resolultion_urls() function)\n",
    "    Output:\n",
    "        List of dicts: contains metadata from all UNGA resolutions provided \n",
    "            as input \n",
    "        \n",
    "    '''\n",
    "    urls = list(map(lambda x: 'https://digitallibrary.un.org' + x, urls))\n",
    "    metadata = []\n",
    "    for url in urls:\n",
    "        req = requests.get(url)\n",
    "        soup = bs4.BeautifulSoup(req.text, 'html.parser')\n",
    "        dic = {'url': url}\n",
    "        divs = soup.find_all('div', class_='metadata-row')\n",
    "        for div in divs:\n",
    "            k = div.find_all('span')[0].text.strip()\n",
    "            v = div.find_all('span')[1].text.strip()\n",
    "            dic[k] = v\n",
    "            as_ = div.find_all('a')\n",
    "            for a in as_:\n",
    "                dic[k + '_url'] = a['href']\n",
    "        if dic['Note'] == 'RECORDED':\n",
    "            decisions = ['Yes', 'No', 'Abstentions', 'Non-voting', 'Total']\n",
    "            votes = re.findall(r':(\\s+\\S+)', dic['Vote summary'])\n",
    "            for i, vote in enumerate(votes):\n",
    "                votes[i] = vote.strip()\n",
    "                if votes[i] == '|':\n",
    "                    votes[i] = 0\n",
    "                votes[i] = int(votes[i])\n",
    "            dic['Votes'] = dict(zip(decisions, votes))\n",
    "            dic['Votes_url'] = url.replace('?ln=en', '/export/xm')\n",
    "        metadata.append(dic)\n",
    "    return metadata"
   ]
  },
  {
   "cell_type": "code",
   "execution_count": null,
   "metadata": {},
   "outputs": [],
   "source": [
    "def get_voting_data(metadata):\n",
    "    '''\n",
    "    Given the metadata of UNGA resolutions, fetches the voting records for each resolution.\n",
    "    Input:\n",
    "        metadata (list of dicts): contains the metadata of all UNGA resolutions \n",
    "            (output of the get_metadata() function)\n",
    "    Output:\n",
    "        List of dicts: matching each resolution ID with a dictionary of voting records.\n",
    "    '''\n",
    "    voting_data = {}\n",
    "    for res in metadata:\n",
    "        try:\n",
    "            req = requests.get(res['Votes_url'])\n",
    "        except KeyError:\n",
    "            continue\n",
    "        voting_data[res['Resolution']] = []\n",
    "        soup = bs4.BeautifulSoup(req.text, 'html.parser')\n",
    "        datafields = soup.find_all('datafield', tag='967')\n",
    "        for field in datafields:\n",
    "            votes = {}\n",
    "            votes['Code'] = field.find_all('subfield', code='c')[0].text\n",
    "            votes['Country'] = field.find_all('subfield', code='e')[0].text\n",
    "            try:\n",
    "                votes['Vote'] = field.find_all('subfield', code='d')[0].text\n",
    "                voting_data[res['Resolution']].append(votes)\n",
    "            except IndexError:\n",
    "                voting_data[res['Resolution']].append(votes)\n",
    "                continue\n",
    "    return voting_data"
   ]
  },
  {
   "cell_type": "code",
   "execution_count": null,
   "metadata": {},
   "outputs": [],
   "source": [
    "voting_data_full = get_voting_data(metadata_full)"
   ]
  },
  {
   "cell_type": "code",
   "execution_count": 209,
   "metadata": {},
   "outputs": [
    {
     "data": {
      "text/html": [
       "<div>\n",
       "<style scoped>\n",
       "    .dataframe tbody tr th:only-of-type {\n",
       "        vertical-align: middle;\n",
       "    }\n",
       "\n",
       "    .dataframe tbody tr th {\n",
       "        vertical-align: top;\n",
       "    }\n",
       "\n",
       "    .dataframe thead th {\n",
       "        text-align: right;\n",
       "    }\n",
       "</style>\n",
       "<table border=\"1\" class=\"dataframe\">\n",
       "  <thead>\n",
       "    <tr style=\"text-align: right;\">\n",
       "      <th>Country</th>\n",
       "      <th>AFGHANISTAN</th>\n",
       "      <th>ALBANIA</th>\n",
       "      <th>ALGERIA</th>\n",
       "      <th>ANDORRA</th>\n",
       "      <th>ANGOLA</th>\n",
       "      <th>ANTIGUA AND BARBUDA</th>\n",
       "      <th>ARGENTINA</th>\n",
       "      <th>ARMENIA</th>\n",
       "      <th>AUSTRALIA</th>\n",
       "      <th>AUSTRIA</th>\n",
       "      <th>...</th>\n",
       "      <th>UNITED REPUBLIC OF TANZANIA</th>\n",
       "      <th>UNITED STATES</th>\n",
       "      <th>URUGUAY</th>\n",
       "      <th>UZBEKISTAN</th>\n",
       "      <th>VANUATU</th>\n",
       "      <th>VENEZUELA (BOLIVARIAN REPUBLIC OF)</th>\n",
       "      <th>VIET NAM</th>\n",
       "      <th>YEMEN</th>\n",
       "      <th>ZAMBIA</th>\n",
       "      <th>ZIMBABWE</th>\n",
       "    </tr>\n",
       "  </thead>\n",
       "  <tbody>\n",
       "    <tr>\n",
       "      <th>Vote</th>\n",
       "      <td>Y</td>\n",
       "      <td>Y</td>\n",
       "      <td>Y</td>\n",
       "      <td>Y</td>\n",
       "      <td>Y</td>\n",
       "      <td>Y</td>\n",
       "      <td>Y</td>\n",
       "      <td>Y</td>\n",
       "      <td>Y</td>\n",
       "      <td>Y</td>\n",
       "      <td>...</td>\n",
       "      <td>Y</td>\n",
       "      <td>Y</td>\n",
       "      <td>Y</td>\n",
       "      <td>Y</td>\n",
       "      <td>NaN</td>\n",
       "      <td>NaN</td>\n",
       "      <td>Y</td>\n",
       "      <td>Y</td>\n",
       "      <td>Y</td>\n",
       "      <td>A</td>\n",
       "    </tr>\n",
       "  </tbody>\n",
       "</table>\n",
       "<p>1 rows × 192 columns</p>\n",
       "</div>"
      ],
      "text/plain": [
       "Country AFGHANISTAN ALBANIA ALGERIA ANDORRA ANGOLA ANTIGUA AND BARBUDA  \\\n",
       "Vote              Y       Y       Y       Y      Y                   Y   \n",
       "\n",
       "Country ARGENTINA ARMENIA AUSTRALIA AUSTRIA  ... UNITED REPUBLIC OF TANZANIA  \\\n",
       "Vote            Y       Y         Y       Y  ...                           Y   \n",
       "\n",
       "Country UNITED STATES URUGUAY UZBEKISTAN VANUATU  \\\n",
       "Vote                Y       Y          Y     NaN   \n",
       "\n",
       "Country VENEZUELA (BOLIVARIAN REPUBLIC OF) VIET NAM YEMEN ZAMBIA ZIMBABWE  \n",
       "Vote                                   NaN        Y     Y      Y        A  \n",
       "\n",
       "[1 rows x 192 columns]"
      ]
     },
     "execution_count": 209,
     "metadata": {},
     "output_type": "execute_result"
    }
   ],
   "source": [
    "pd.DataFrame(all_votes).set_index('Country').loc[:, ['Vote']].T"
   ]
  },
  {
   "cell_type": "code",
   "execution_count": null,
   "metadata": {},
   "outputs": [],
   "source": [
    "def get_resolutions(metadata):\n",
    "    resolutions = {}\n",
    "    for res in metadata:\n",
    "        try:\n",
    "            req = requests.get(res['Resolution_url'])\n",
    "        except KeyError:\n",
    "            resolutions[res['Resolution']] = np.NaN\n",
    "            continue\n",
    "    \n",
    "    "
   ]
  },
  {
   "cell_type": "code",
   "execution_count": null,
   "metadata": {},
   "outputs": [],
   "source": []
  },
  {
   "cell_type": "code",
   "execution_count": null,
   "metadata": {},
   "outputs": [],
   "source": []
  }
 ],
 "metadata": {
  "kernelspec": {
   "display_name": "Python 3",
   "language": "python",
   "name": "python3"
  },
  "language_info": {
   "codemirror_mode": {
    "name": "ipython",
    "version": 3
   },
   "file_extension": ".py",
   "mimetype": "text/x-python",
   "name": "python",
   "nbconvert_exporter": "python",
   "pygments_lexer": "ipython3",
   "version": "3.8.3"
  }
 },
 "nbformat": 4,
 "nbformat_minor": 4
}
